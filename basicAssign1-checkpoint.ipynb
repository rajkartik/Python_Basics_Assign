{
 "cells": [
  {
   "cell_type": "markdown",
   "metadata": {},
   "source": [
    "1) Operators : * , - , / , +\n",
    "\n",
    "Values :'hello' , -87.8 , 6\n",
    "\n",
    "2)The diffrence between variable and string is vriable is used for declaring implicit datatypes be an int , string , double , an object etc. It is useful when you don't exactly know the return type of a method Or you are not concerned with it at all. 'string' is itself a particular data type which can hold only string data and not of any type. and a variable can store string but vice versa may not be true.\n",
    "\n",
    "3) Three different data types are:- Integer,boolean,Float,complex\n",
    "\n",
    "4) A combination of operators and operands makes up an expression.\n",
    "\n",
    "Function of all expressions is that:-\n",
    "\n",
    "It helps in making a rule based on our requirement or calculations\n",
    "It helps in storing the values whether numeric or string\n",
    "\n",
    "5) Expression is a combination of variables,operation and values that gives a result value. Assignment of variable  means to assign a particular data type to a variable.Here spam=10 simply means variable spam is being assigned an integer value 10\n",
    "\n",
    "6) bacon contains 22\n",
    "\n",
    "7) Both will have same Output: 'spamspamapam'\n",
    "\n",
    "8) variable name cannot start with a number\n",
    "\n",
    "9) For converting a value to integer,floating point and a string functions used are: int() , float() , str()\n",
    "\n",
    "10) Here the error will be type error as data types present here are different and it will not concatenate.To make it run we must change 99 to string ex:-'i have eaten'+str(99)+'burritos'"
   ]
  },
  {
   "cell_type": "code",
   "execution_count": null,
   "metadata": {},
   "outputs": [],
   "source": []
  }
 ],
 "metadata": {
  "kernelspec": {
   "display_name": "Python 3",
   "language": "python",
   "name": "python3"
  },
  "language_info": {
   "codemirror_mode": {
    "name": "ipython",
    "version": 3
   },
   "file_extension": ".py",
   "mimetype": "text/x-python",
   "name": "python",
   "nbconvert_exporter": "python",
   "pygments_lexer": "ipython3",
   "version": "3.7.6"
  }
 },
 "nbformat": 4,
 "nbformat_minor": 4
}
